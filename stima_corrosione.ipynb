{
 "cells": [
  {
   "cell_type": "code",
   "execution_count": 1,
   "metadata": {},
   "outputs": [],
   "source": [
    "# NB: per eseguire questo notebook come file Python, scegliere il menù \"File -> Download as -> Python (.py)\" .\n",
    "# Da Canopy, scommentando questa istruzione si hanno i grafici nella console e non in finestre aggiuntive:\n",
    "#get_ipython().magic(u'matplotlib inline')\n",
    "%matplotlib inline\n",
    "import numpy as np\n",
    "import matplotlib.pyplot as plt\n",
    "import _pickle as cPickle\n",
    "import numpy.matlib as npmat\n",
    "from scipy.sparse import *\n",
    "from scipy.sparse.linalg import *"
   ]
  },
  {
   "cell_type": "code",
   "execution_count": 2,
   "metadata": {},
   "outputs": [],
   "source": [
    "def dati_veri_dominio(corrosione=False):\n",
    "  if not corrosione:\n",
    "    Lungh = 5.\n",
    "    n = 50\n",
    "  else:\n",
    "    Lungh = 2. # il dominio effettivo si riduce\n",
    "    n = 20\n",
    "  #endif\n",
    "  Dx = Lungh/n  # passo di discretizzazione nello spazio\n",
    "  return Lungh,n,Dx"
   ]
  },
  {
   "cell_type": "code",
   "execution_count": 3,
   "metadata": {},
   "outputs": [],
   "source": [
    "def g0(n, Dx):\n",
    "  # supponiamo che ci sia temperatura uniforme pari a 20 gradi\n",
    "  T0 = 20.0 * np.ones(n+1)\n",
    "  return T0"
   ]
  },
  {
   "cell_type": "code",
   "execution_count": 4,
   "metadata": {},
   "outputs": [],
   "source": [
    "def f0(t): # forzante di tipo \"flash\" applicata al nodo 0\n",
    "  t = t * 5e-04\n",
    "  W = 6.6296e+006\n",
    "  sig = 0.010\n",
    "  Q = (W*t) * np.exp(-np.sqrt(t)/sig)\n",
    "  return Q"
   ]
  },
  {
   "cell_type": "code",
   "execution_count": 5,
   "metadata": {},
   "outputs": [
    {
     "data": {
      "image/png": "[encoded data removed]",
      "text/plain": [
       "<Figure size 432x288 with 1 Axes>"
      ]
     },
     "metadata": {
      "needs_background": "light"
     },
     "output_type": "display_data"
    }
   ],
   "source": [
    "t = np.arange(0.0,10.0,0.01)\n",
    "plt.figure(1); plt.plot(t,f0(t)); plt.show()"
   ]
  },
  {
   "cell_type": "code",
   "execution_count": 6,
   "metadata": {},
   "outputs": [],
   "source": [
    "def calore_1d_fd(Lungh,n,Dx,N,eulero):\n",
    "  # Approssimazione del seguente problema:\n",
    "  # Dato (t,x) in [t0, tf] x [0,L], con L variabile, sia h il passo temporale\n",
    "  # di discretizzazione di [t0, tf] e Dx il passo di [0,L].\n",
    "  # equazione del calore: T=T(t,x) temperatura in [t0, tf] x [0,L]\n",
    "  # dT/dt - c (d^2)T/d (x^2)=0\n",
    "  # dT/dx(t,0)=f0(t), forzante(flash) nota\n",
    "  # dT/dx (t,L)=0, condizioni di Neumnann omogenee\n",
    "  # T(t0,x)=g0(x), condizioni iniziali note\n",
    "  # problema discretizzato nello spazio: Ti(t)=T(t,xi), xi=i*Dx;\n",
    "  # T'(t)=c A T(t)+b(t), T(t)=[T0(t),T1(t),...,Tn(t)]', b(t)=[f0(t), 0,...,0]' ; (ODE)\n",
    "  # T(t0)=g0 <=> [T0(t0),T1(t0),...,Tn-1(t0)]' = [g0(x0),g0(x1),...,g0(xn-1),g0(xn)]';\n",
    "  c = 1.\n",
    "  tfin = 10.\n",
    "  tin = 0.\n",
    "  dt = (tfin-tin)/N\n",
    "  A = lil_matrix((n+1,n+1))\n",
    "  for i in range(1,n+1): # nodi interni: discretizzazione del laplaciano\n",
    "    A[i,i] = -2./Dx**2\n",
    "    if i > 0:      A[i,i-1] = 1./Dx**2   #endif\n",
    "    if i < n:      A[i,i+1] = 1./Dx**2   #endif\n",
    "  #endfor\n",
    "  # devo imporre le CB: quindi aggiungo le equazioni corrispondenti\n",
    "  A[0,0] = -1./Dx; A[0,1] = 1./Dx\n",
    "  A[n,n] = -1./Dx; A[n,n-1] = 1./Dx\n",
    "  # otteniamo quindi l'equazione discretizzata nello spazio:\n",
    "  # T'(t)=c A T(t)+b(t), T(t)=[T0(t),T1(t),...,Tn(t)]', b(t)=[f0(t), 0,...,0]' ; (ODE)\n",
    "  # T(t0)=g0 <=> [T0(t0),T1(t0),...,Tn-1(t0)]' = [g0(x0),g0(x1),...,g0(xn-1),g0(xn)]';\n",
    "  # Osservazione: b(t) puo' essere pensato come l'ingresso del modello (u=b(t))\n",
    "  # quindi otteniamo il seguente sistema state-space:\n",
    "  # T'(t)=c A T(t)+b(t);\n",
    "  # T_vero_x0(t)=T0(t)=C T(t), C=[1,0,...,0]; <=> serie temporale delle temperature raccolte in x0\n",
    "  # Quindi l'ordine nx del modello state space e' n+1.\n",
    "  # per risoluzione dell'(ODE) uso un theta metodo\n",
    "  T_old = g0(n,Dx); # CI (per k=0)\n",
    "  T_x0 = np.zeros(N+1)\n",
    "  T_x0[0] = T_old[0]\n",
    "  M1 = np.eye(n+1)-dt*c*A\n",
    "  #print(M1[0:4,0:4])\n",
    "  if eulero == 0:  # esplicito\n",
    "    for k in range(N):\n",
    "      b = np.zeros((n+1,1))\n",
    "      b[0] = f0(k*dt+tin)\n",
    "      T = dt * (c*A*T_old+b)+T_old  # T(k+1)=(I+hcA)T(k)+h*b\n",
    "      T_old = T.copy()\n",
    "      T_x0[k+1] = T_old[0,0]\n",
    "    #endfor\n",
    "  elif eulero == 1:  # implicito\n",
    "    for k in range(N):\n",
    "      b = np.zeros((n+1,1))\n",
    "      b[0] = f0(k*dt+tin)\n",
    "      T = np.linalg.solve(M1, dt*b+T_old)  # T(k+1)=(I-dt*c*A)^{-1}T(k)+(I-dt*c*A)^{-1}*dt*b\n",
    "      T_old = T.copy()\n",
    "      T_x0[k+1] = T_old[0,0]\n",
    "    #endfor\n",
    "  #endif\n",
    "  return T_x0"
   ]
  },
  {
   "cell_type": "code",
   "execution_count": 7,
   "metadata": {},
   "outputs": [
    {
     "name": "stdout",
     "output_type": "stream",
     "text": [
      "Dx =  0.1\n"
     ]
    }
   ],
   "source": [
    "# 1) generazione dei dati sperimentali:\n",
    "eulero = 1  # 0=esplicito, 1=implicito\n",
    "fid = open(\"eulero.pydat\",\"wb\")\n",
    "cPickle.dump(eulero,fid)\n",
    "fid.close()\n",
    "#\n",
    "# I \"dati sperimentali\" sono in questo caso dei dati prodotti da una\n",
    "# simulazione con il flash virtuale (quindi e' la risposta al campione\n",
    "# unitario), piu' del rumore aggiunto, ed un \"h\" prestabilito: e' da vedere\n",
    "# se viene correttamente identificato dall'algoritmo di analisi dei dati.\n",
    "N = 1000; # numero di istanti temporali\n",
    "Lungh,n,Dx = dati_veri_dominio(corrosione=False)\n",
    "print(\"Dx = \", Dx)\n",
    "fid = open(\"L_sano.pydat\",\"wb\")\n",
    "cPickle.dump(Lungh,fid)\n",
    "fid.close()\n",
    "T = calore_1d_fd(Lungh,n,Dx,N,eulero)\n",
    "# aggiunta del rumore per simulare le misure sperimentali\n",
    "std_err = 1e-3\n",
    "rumore = std_err*np.random.randn(N+1)\n",
    "T_vero_x0 = T + rumore\n",
    "#\n",
    "# dati sperimentali del campione corroso:\n",
    "Lungh,n,Dx = dati_veri_dominio(corrosione=True)\n",
    "T = calore_1d_fd(Lungh,n,Dx,N,eulero)\n",
    "std_err = 1e-3\n",
    "rumore = std_err*np.random.randn(N+1)\n",
    "T_vero_x0_corr = T + rumore\n",
    "#save T_vero_x0_corr T_vero_x0_corr;\n",
    "#disp('dati sperimentali relativi al campione non corroso: T_vero_x0_corr.mat');"
   ]
  },
  {
   "cell_type": "code",
   "execution_count": 8,
   "metadata": {
    "scrolled": true
   },
   "outputs": [
    {
     "data": {
      "image/png": "[encoded data removed]",
      "text/plain": [
       "<Figure size 432x288 with 1 Axes>"
      ]
     },
     "metadata": {
      "needs_background": "light"
     },
     "output_type": "display_data"
    }
   ],
   "source": [
    "plt.figure(11); plt.plot(T_vero_x0,'b-'); plt.plot(T_vero_x0_corr,'r-'); plt.show()"
   ]
  },
  {
   "cell_type": "code",
   "execution_count": 9,
   "metadata": {},
   "outputs": [],
   "source": [
    "def validazione(T_vero_x0):\n",
    "    AIC = []\n",
    "    MDL = []\n",
    "    for n in range(1,100,5):\n",
    "        est_T = calore_1d_fd(Lungh,n,Lungh/n,N,eulero)\n",
    "        V = 1/N * np.linalg.norm(T_vero_x0-est_T)**2\n",
    "        AIC.append(np.log(V)+(n+1)*2/N)\n",
    "        MDL.append(V*(1+(n+1)*np.log(N)/N))\n",
    "    naic = np.argmin(AIC)*5+2\n",
    "    plt.plot(AIC); plt.title('Akaike'); plt.show()\n",
    "    nmdl = np.argmin(MDL)*5+2\n",
    "    plt.plot(MDL); plt.title('Minimum Description Length'); plt.show()\n",
    "    print('abbiamo ottenuto, con Akaike e MDL:',naic,'e',nmdl,'rispettivamente')\n",
    "    print('per ora ho strutturato la funzione perchè restituisca quello ottenuto con Akaike')\n",
    "    return Lungh/naic"
   ]
  },
  {
   "cell_type": "code",
   "execution_count": 10,
   "metadata": {},
   "outputs": [
    {
     "name": "stdout",
     "output_type": "stream",
     "text": [
      "validazione del modello di riferimento e determinazione di Dx:\n"
     ]
    },
    {
     "data": {
      "image/png": "[encoded data removed]",
      "text/plain": [
       "<Figure size 432x288 with 1 Axes>"
      ]
     },
     "metadata": {
      "needs_background": "light"
     },
     "output_type": "display_data"
    },
    {
     "data": {
      "image/png": "[encoded data removed]",
      "text/plain": [
       "<Figure size 432x288 with 1 Axes>"
      ]
     },
     "metadata": {
      "needs_background": "light"
     },
     "output_type": "display_data"
    },
    {
     "name": "stdout",
     "output_type": "stream",
     "text": [
      "abbiamo ottenuto, con Akaike e MDL: 52 e 52 rispettivamente\n",
      "per ora ho strutturato la funzione perchè restituisca quello ottenuto con Akaike\n",
      "Dx =  0.09615384615384616\n"
     ]
    }
   ],
   "source": [
    "# 2) analisi della corrosione sulla base dei dati sperimentali\n",
    "print('validazione del modello di riferimento e determinazione di Dx:')\n",
    "fid = open(\"L_sano.pydat\",\"rb\")\n",
    "Lungh = cPickle.load(fid) # contiene la lunghezza \"Lungh\" del campione sano\n",
    "#print(Lungh)\n",
    "Dx = validazione(T_vero_x0)\n",
    "print('Dx = ',Dx)\n",
    "fid = open(\"Dx.pydat\",\"wb\")\n",
    "cPickle.dump(Dx,fid)\n",
    "fid.close()"
   ]
  },
  {
   "cell_type": "code",
   "execution_count": 11,
   "metadata": {},
   "outputs": [],
   "source": [
    "def validazione2(T_vero_x0_corr):\n",
    "    AIC = []\n",
    "    MDL = []\n",
    "    for n in range(1,60,3):\n",
    "        est_T = calore_1d_fd(Dx*n,n,Dx,N,eulero)\n",
    "        V = 1/N * np.linalg.norm(T_vero_x0_corr-est_T)**2\n",
    "        AIC.append(np.log(V)+(n+1)*2/N)\n",
    "        MDL.append(V*(1+(n+1)*np.log(N)/N))\n",
    "    naic = np.argmin(AIC)*3+1\n",
    "    plt.plot(AIC); plt.title('Akaike'); plt.show()\n",
    "    nmdl = np.argmin(MDL)*3+1\n",
    "    plt.plot(MDL); plt.title('Minimum Description Length'); plt.show()\n",
    "    print('abbiamo ottenuto, con Akaike e MDL:',naic,'e',nmdl,'rispettivamente')\n",
    "    print('per ora ho strutturato la funzione perchè restituisca quello ottenuto con Akaike')\n",
    "    return Dx*naic"
   ]
  },
  {
   "cell_type": "code",
   "execution_count": 28,
   "metadata": {},
   "outputs": [],
   "source": [
    "calc_FN = lambda r: (np.linalg.norm(r,2) / np.sqrt(len(r)))**2\n",
    "\n",
    "def GN_LM(y_meas,y,theta_est,stop_iter_thrs_on_applied_coeff_update=0.5,analisi=False,\\\n",
    "             max_iter=20,est_stderrmis=0.0,precision=1):\n",
    "    N = len(y_meas)\n",
    "    h_theta = 2\n",
    "    iteraz = 0 # contatore dell'iterazione\n",
    "    print(\"start:  theta_est = \", theta_est, \"FN = \", calc_FN(y(theta_est) - y_meas))\n",
    "    #plt.figure(iteraz); plt.plot(y_meas,'b-'); plt.plot(y(h_theta/2),'r-'); plt.title('iteraz = '+str(iteraz))\n",
    "    psi_r = np.atleast_2d(np.zeros((N,1)))\n",
    "    delta_theta_GN = float(np.inf)\n",
    "    FN = float(np.inf)  # funzione costo (inizialmente ad infinito)\n",
    "    \n",
    "    while np.max(np.abs(delta_theta_GN)) > stop_iter_thrs_on_applied_coeff_update and iteraz < max_iter and FN > 1:  \n",
    "        iteraz += 1\n",
    "        r = y(theta_est) - y_meas\n",
    "        FN = calc_FN(r)\n",
    "        ### Calcolo la matrice di sensitivita' PSI\n",
    "        y1 = y(theta_est - h_theta/2)                             \n",
    "        y2 = y(theta_est + h_theta/2) \n",
    "        #plt.figure(); plt.plot(y2,'r-'); plt.title('y2='); plt.show()\n",
    "        #plt.figure(); plt.plot(y1,'b-'); plt.title('y1='); plt.show()\n",
    "        psi_r = np.atleast_2d((y2 - y1) / h_theta).T\n",
    "        if analisi:\n",
    "            print(\"psi_r = \", psi_r)\n",
    "            S = np.linalg.svd(psi_r,compute_uv=False)\n",
    "            print(\"valori singolari di psi_r = \", S)\n",
    "        #endif\n",
    "        #print('psi has a condition number of ',np.linalg.cond(psi_r,2))\n",
    "        [Q,R] = np.linalg.qr( psi_r )\n",
    "        delta_theta_GN = np.squeeze( np.linalg.solve(R, -(Q.T @ np.atleast_2d(r).T)) )\n",
    "        temp_FN = FN\n",
    "        delta_theta_temp = delta_theta_GN\n",
    "        mu = 1\n",
    "        \n",
    "        while temp_FN >= FN*(9/10) and np.abs(delta_theta_temp) > 0.5: \n",
    "            delta_theta_temp = delta_theta_GN * mu\n",
    "            theta_est_temp = theta_est + delta_theta_temp\n",
    "            while (theta_est_temp <= 1 or theta_est_temp >= 100) and np.abs(delta_theta_temp) > 0.5:\n",
    "                mu /= 2.0\n",
    "                delta_theta_temp = delta_theta_GN * mu\n",
    "                theta_est_temp = theta_est + delta_theta_temp\n",
    "            #endwhile\n",
    "            if theta_est_temp > 1 and theta_est_temp < 100:\n",
    "                mu /= 2.0\n",
    "                delta_theta_temp = delta_theta_GN * mu\n",
    "                theta_est_temp = theta_est + delta_theta_temp\n",
    "            #endif\n",
    "            y_temp = y(theta_est_temp)\n",
    "            temp_FN = calc_FN(y_temp - y_meas)\n",
    "            #print(\"FN = \", FN, \"temp_FN = \", temp_FN,'delta_theta_temp = ', delta_theta_temp)  \n",
    "        #endwhile\n",
    "        if np.abs(delta_theta_temp) > 0.5:\n",
    "            delta_theta_GN = delta_theta_temp\n",
    "        else:\n",
    "            delta_theta_GN = 0\n",
    "            FN_sx = calc_FN(y(theta_est-1) - y_meas)\n",
    "            FN_dx = calc_FN(y(theta_est+1) - y_meas)\n",
    "            if FN < FN_sx and FN > FN_dx:\n",
    "                print('FN=',FN,'FN_sx=',FN_sx,'FN_dx=',FN_dx)\n",
    "                return theta_est\n",
    "            else:\n",
    "                theta_est = np.random.randint(2,100)\n",
    "        #endif\n",
    "        if analisi:\n",
    "            print(\"delta_theta_GN = \", delta_theta_GN)\n",
    "            if est_stderrmis > 0.0:\n",
    "                print(\"covarianza err stima dei parametri = \", est_stderrmis * (psi_r.T @ psi_r))\n",
    "            #endif\n",
    "        #endif\n",
    "        theta_est += delta_theta_GN\n",
    "        r = y(theta_est) - y_meas\n",
    "        FN = calc_FN(r)\n",
    "        print(\"iterazione \", iteraz, \":  theta_est = \", theta_est, \"   FN = \", FN)\n",
    "        #plt.figure(iteraz); plt.plot(y_meas,'b-'); plt.plot(y(theta_est),'r-'); plt.title('iteraz = '+str(iteraz)); #axis([0., 1., -0.5, 0.5])\n",
    "    #endwhile\n",
    "    return theta_est"
   ]
  },
  {
   "cell_type": "code",
   "execution_count": 35,
   "metadata": {},
   "outputs": [],
   "source": [
    "def calore(n):\n",
    "    n = np.round(n)\n",
    "    n = int(n)\n",
    "    if n <= 0:\n",
    "        print('n è diventato negativo')\n",
    "    return calore_1d_fd(Dx*n,n,Dx,N,eulero)\n",
    "\n",
    "def validazione3(T_vero_x0_corr,stima_n=60):\n",
    "    return Dx*GN_LM(T_vero_x0_corr,calore,stima_n)"
   ]
  },
  {
   "cell_type": "code",
   "execution_count": 36,
   "metadata": {},
   "outputs": [
    {
     "name": "stdout",
     "output_type": "stream",
     "text": [
      "start:  theta_est =  60 FN =  1125.7945225494882\n",
      "FN =  1125.7945225494882 temp_FN =  866.891879997281 delta_theta_temp =  -23.20087445105713\n",
      "iterazione  1 :  theta_est =  36.79912554894287    FN =  866.891879997281\n",
      "FN =  866.891879997281 temp_FN =  173.4603671231756 delta_theta_temp =  -11.605061715669633\n",
      "iterazione  2 :  theta_est =  25.194063833273233    FN =  173.4603671231756\n",
      "FN =  173.4603671231756 temp_FN =  59.151779835942705 delta_theta_temp =  -2.6578179720782775\n",
      "iterazione  3 :  theta_est =  22.536245861194956    FN =  59.151779835942705\n",
      "FN =  59.151779835942705 temp_FN =  0.9838608541777926 delta_theta_temp =  -1.2651922801497346\n",
      "iterazione  4 :  theta_est =  21.271053581045223    FN =  0.9838608541777926\n",
      "La lunghezza stimata è di 2.0452936135620408\n"
     ]
    }
   ],
   "source": [
    "Lung = validazione3(T_vero_x0_corr)\n",
    "print('La lunghezza stimata è di',Lung)"
   ]
  },
  {
   "cell_type": "code",
   "execution_count": null,
   "metadata": {},
   "outputs": [],
   "source": []
  },
  {
   "cell_type": "code",
   "execution_count": null,
   "metadata": {},
   "outputs": [],
   "source": []
  }
 ],
 "metadata": {
  "anaconda-cloud": {},
  "kernelspec": {
   "display_name": "Python 3",
   "language": "python",
   "name": "python3"
  },
  "language_info": {
   "codemirror_mode": {
    "name": "ipython",
    "version": 3
   },
   "file_extension": ".py",
   "mimetype": "text/x-python",
   "name": "python",
   "nbconvert_exporter": "python",
   "pygments_lexer": "ipython3",
   "version": "3.8.5"
  }
 },
 "nbformat": 4,
 "nbformat_minor": 1
}
