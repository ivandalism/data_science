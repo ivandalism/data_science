{
 "cells": [
  {
   "cell_type": "code",
   "execution_count": 1,
   "metadata": {},
   "outputs": [],
   "source": [
    "# NB: per eseguire questo notebook come file Python, scegliere il menù \"File -> Download as -> Python (.py)\" .\n",
    "# Da Canopy, scommentando questa istruzione si hanno i grafici nella console e non in finestre aggiuntive:\n",
    "#get_ipython().magic(u'matplotlib inline')\n",
    "%matplotlib inline\n",
    "import numpy as np\n",
    "import matplotlib.pyplot as plt"
   ]
  },
  {
   "cell_type": "code",
   "execution_count": 2,
   "metadata": {},
   "outputs": [],
   "source": [
    "def givens(xp,xq,p,n):\n",
    "    G = np.eye(n+1)\n",
    "    if xq == 0:\n",
    "        c=1; s=0;\n",
    "    elif abs(xq)>abs(xp):\n",
    "        r = xp/xq; s = -1/np.sqrt(1+r**2); c=-s*r;\n",
    "    else:\n",
    "        r = xq/xp; c = 1/np.sqrt(1+r**2); s=-c*r;\n",
    "    G[p,p] = c\n",
    "    G[p,n] = -s\n",
    "    G[n,p] = s\n",
    "    G[n,n] = c\n",
    "    return G\n",
    "\n",
    "def recursive_qr(Q,R):\n",
    "    n = len(Q[0:])+1\n",
    "    N = len(R[-1,:])\n",
    "    updQ = np.zeros((n,n))\n",
    "    updQ[n-1,n-1] = 1\n",
    "    updQ[:n-1,:n-1] = Q\n",
    "    updR = R\n",
    "    for i in range(N):\n",
    "        G = givens(R[i,i],R[-1,i],i,n-1)\n",
    "        updQ = updQ @ G.T\n",
    "        updR = G @ updR\n",
    "    return updQ,updR"
   ]
  },
  {
   "cell_type": "code",
   "execution_count": 3,
   "metadata": {},
   "outputs": [],
   "source": [
    "esercizio = 1"
   ]
  },
  {
   "cell_type": "code",
   "execution_count": 4,
   "metadata": {
    "scrolled": false
   },
   "outputs": [
    {
     "data": {
      "image/png": "[encoded data removed]",
      "text/plain": [
       "<Figure size 432x288 with 1 Axes>"
      ]
     },
     "metadata": {
      "needs_background": "light"
     },
     "output_type": "display_data"
    },
    {
     "data": {
      "image/png": "[encoded data removed]",
      "text/plain": [
       "<Figure size 432x288 with 1 Axes>"
      ]
     },
     "metadata": {
      "needs_background": "light"
     },
     "output_type": "display_data"
    }
   ],
   "source": [
    "# definiamo un sistema del primo ordine:\n",
    "a = np.array([1., 0.97])\n",
    "na = len(a) - 1\n",
    "b = np.array([4.])\n",
    "# condizioni iniziali :\n",
    "u_m1 = 0.\n",
    "y_m1 = 0.\n",
    "y_m2 = 0.\n",
    "# scelgo se aggiungere il rumore ai dati:\n",
    "aggiungo_rumore = True\n",
    "# coefficiente di oblio (lambda):\n",
    "lam = 0.5  # 0.5 - 0.99\n",
    "Ndati = 64\n",
    "u = np.zeros(Ndati)\n",
    "y = np.zeros(Ndati)\n",
    "plt.figure(1); plt.title('y');\n",
    "a_est = np.zeros((na,Ndati))\n",
    "a_hist = np.zeros((na+1,Ndati))\n",
    "w = np.random.randn(Ndati)\n",
    "\n",
    "for N in range(Ndati):\n",
    "  #print(\"N = \",N)\n",
    "  # legge di variazione dei parametri:\n",
    "  if N>20: a[1] = -0.97 #endif \n",
    "  a_hist[1,N] = a[1]\n",
    "  # calcolo l'ingresso (sequenza di kronecker):\n",
    "  if N==0: \n",
    "    u[N]=1. \n",
    "  else: \n",
    "    u[N]=0. \n",
    "  #endif\n",
    "  # aggiorno l'uscita del sistema \n",
    "  y[N] = 1./a[0] * ( -a[1]*y_m1 + b[0]*u[N] )     #sarebbe h cioè la risposta all'impulso discreto\n",
    "  if aggiungo_rumore:\n",
    "    y[N] = y[N] + 0.3*w[N]   # 0.3\n",
    "  #endif\n",
    "  plt.plot([N-1, N],[y_m1, y[N]],'b-'); \n",
    "  # calcolo/aggiorno le stime\n",
    "  #ricorda: risolviamo il sistema H*a=-h dove la matrice H parte da h_1 e -h=[-h_na+1 ... -h_N] che viene da H(grande)*a(con -1 in fondo)=0\n",
    "  istante_prima_stima = (na+1)+na\n",
    "  if N > istante_prima_stima:\n",
    "    d = lam * d;   #aggiungiamo il fattore di oblio\n",
    "    d = np.vstack((d, -y[N]))\n",
    "    \n",
    "    R = lam * R\n",
    "    R = np.vstack((R, y[N-na:N-1+1])) \n",
    "    \n",
    "    if esercizio == 1:\n",
    "        Q,R = recursive_qr(Q.copy(),R.copy())\n",
    "        a_est[:,N] = np.linalg.solve( R[:na,:] , Q[:,:na].T@d )\n",
    "    elif esercizio == 2:\n",
    "        lung = len(Q[0:])+1\n",
    "        Qtemp = Q\n",
    "        Q = np.zeros((lung,lung))\n",
    "        Q[lung-1,lung-1] = 1\n",
    "        Q[:lung-1,:lung-1] = Qtemp\n",
    "        Qtd = Q.T @ d\n",
    "        for i in range(na):\n",
    "            G = givens(R[i,i],R[-1,i],i,lung-1)\n",
    "            Qtd = G @ Qtd\n",
    "            R = G @ R\n",
    "        a_est[:,N] = np.linalg.solve( R[:na,:] , Qtd[:na,:] )      \n",
    "    \n",
    "  elif N == istante_prima_stima: # calcolo la prima volta, risolvendo il sistema (10.2.10)\n",
    "                         # (NB: è >= al primo \"N\" per cui la matrice del sistema risulti quadrata)\n",
    "    A = np.vstack((A, y[N-na:N-1+1])) \n",
    "    d = np.vstack((d, -y[N]))\n",
    "    Q,R = np.linalg.qr(A.copy(),mode='complete') #la prima QR va fatta poi dal prossimo sarà ricorsivo\n",
    "    a_est[0,N] = np.linalg.solve( R[:na,:] , Q[:,:na].T@d )\n",
    "  elif N > na+1:\n",
    "    A = np.vstack((A, y[N-na:N-1+1])) #stackiamo finchè non abbiamo abbastanza dati\n",
    "    d = np.vstack((d, -y[N]))\n",
    "  elif N == na+1:\n",
    "    A = y[N-na:N-1+1] #da h_1 a h_na, creiamo\n",
    "    d = np.array(-y[N])\n",
    "  #endif\n",
    "  # aggiorno gli elementi di ritardo (NB: da quello più lontano nel tempo !!!)\n",
    "  u_m1 = u[N]\n",
    "  y_m2 = y_m1\n",
    "  y_m1 = y[N]\n",
    "#endfor\n",
    "\n",
    "plt.figure(10);  \n",
    "plt.plot(np.squeeze(np.array(a_hist[1,:])),'k')\n",
    "plt.plot(np.squeeze(np.array(a_est[0,:])),'r--')\n",
    "plt.show()"
   ]
  },
  {
   "cell_type": "code",
   "execution_count": null,
   "metadata": {},
   "outputs": [],
   "source": []
  }
 ],
 "metadata": {
  "anaconda-cloud": {},
  "kernelspec": {
   "display_name": "Python 3",
   "language": "python",
   "name": "python3"
  },
  "language_info": {
   "codemirror_mode": {
    "name": "ipython",
    "version": 3
   },
   "file_extension": ".py",
   "mimetype": "text/x-python",
   "name": "python",
   "nbconvert_exporter": "python",
   "pygments_lexer": "ipython3",
   "version": "3.8.5"
  }
 },
 "nbformat": 4,
 "nbformat_minor": 1
}
